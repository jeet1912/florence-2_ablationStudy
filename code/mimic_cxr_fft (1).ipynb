{
  "nbformat": 4,
  "nbformat_minor": 0,
  "metadata": {
    "colab": {
      "provenance": []
    },
    "kernelspec": {
      "name": "python3",
      "display_name": "Python 3"
    },
    "language_info": {
      "name": "python"
    }
  },
  "cells": [
    {
      "cell_type": "markdown",
      "source": [
        "## Dataset Class"
      ],
      "metadata": {
        "id": "dKcGy-P8Bl9N"
      }
    },
    {
      "cell_type": "code",
      "execution_count": 1,
      "metadata": {
        "id": "qA9QYjsnBX8C"
      },
      "outputs": [],
      "source": [
        "from google.colab import drive\n",
        "from google.colab import auth\n",
        "from google.cloud import storage\n",
        "\n",
        "auth.authenticate_user()"
      ]
    }
  ]
}